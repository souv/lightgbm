{
    "cells": [
        {
            "cell_type": "code",
            "execution_count": 31,
            "source": [
                "from sklearn.datasets import load_iris\r\n",
                "import pandas as pd\r\n",
                "from sklearn.model_selection import GridSearchCV,train_test_split,RandomizedSearchCV\r\n",
                "data = load_iris()"
            ],
            "outputs": [],
            "metadata": {}
        },
        {
            "cell_type": "code",
            "execution_count": 21,
            "source": [
                "#print(data.data)\r\n",
                "#print(data.target)\r\n",
                "\r\n",
                "#change to dataframe\r\n",
                "data_df = pd.DataFrame(data.data)\r\n",
                "df_y = pd.DataFrame(data.target,columns = [\"target\"])\r\n",
                "\r\n"
            ],
            "outputs": [
                {
                    "output_type": "execute_result",
                    "data": {
                        "text/plain": [
                            "Index(['target'], dtype='object')"
                        ]
                    },
                    "metadata": {},
                    "execution_count": 21
                }
            ],
            "metadata": {}
        },
        {
            "cell_type": "code",
            "execution_count": 28,
            "source": [
                "model_df = pd.concat([data_df,df_y],axis = 1,ignore_index = True)\r\n",
                "\r\n",
                "model_df.columns = ['col1','col2','col3','col4','target']\r\n",
                "\r\n",
                "print(model_df.info())\r\n",
                "print(model_df.head(5))"
            ],
            "outputs": [
                {
                    "output_type": "stream",
                    "name": "stdout",
                    "text": [
                        "<class 'pandas.core.frame.DataFrame'>\n",
                        "RangeIndex: 150 entries, 0 to 149\n",
                        "Data columns (total 5 columns):\n",
                        " #   Column  Non-Null Count  Dtype  \n",
                        "---  ------  --------------  -----  \n",
                        " 0   col1    150 non-null    float64\n",
                        " 1   col2    150 non-null    float64\n",
                        " 2   col3    150 non-null    float64\n",
                        " 3   col4    150 non-null    float64\n",
                        " 4   target  150 non-null    int32  \n",
                        "dtypes: float64(4), int32(1)\n",
                        "memory usage: 5.4 KB\n",
                        "None\n",
                        "   col1  col2  col3  col4  target\n",
                        "0   5.1   3.5   1.4   0.2       0\n",
                        "1   4.9   3.0   1.4   0.2       0\n",
                        "2   4.7   3.2   1.3   0.2       0\n",
                        "3   4.6   3.1   1.5   0.2       0\n",
                        "4   5.0   3.6   1.4   0.2       0\n"
                    ]
                }
            ],
            "metadata": {}
        },
        {
            "cell_type": "code",
            "execution_count": 32,
            "source": [
                "model_df_raw = model_df.drop('target',axis = 1)\r\n",
                "\r\n",
                "x = model_df_raw\r\n",
                "\r\n",
                "y = model_df[['target']]\r\n",
                "\r\n",
                "x_train,x_test,y_train,y_test = train_test_split(x,y,test_size =0.1)"
            ],
            "outputs": [],
            "metadata": {}
        },
        {
            "cell_type": "code",
            "execution_count": 34,
            "source": [
                "import lightgbm as lgb\r\n",
                "lgb_train = lgb.Dataset(x_train, y_train)\r\n",
                "lgb_test = lgb.Dataset(x_test, y_test, reference=lgb_train)"
            ],
            "outputs": [],
            "metadata": {}
        },
        {
            "cell_type": "code",
            "execution_count": 35,
            "source": [
                "params = {\r\n",
                "    'num_leaves': 5,\r\n",
                "    'metric': ['l1', 'l2'],\r\n",
                "    'verbose': -1\r\n",
                "}"
            ],
            "outputs": [],
            "metadata": {}
        },
        {
            "cell_type": "code",
            "execution_count": 36,
            "source": [
                "evals_result = {}  # to record eval results for plotting\r\n",
                "gbm = lgb.train(params,\r\n",
                "                lgb_train,\r\n",
                "                num_boost_round=100,\r\n",
                "                valid_sets=[lgb_train, lgb_test],\r\n",
                "                feature_name=[f'f{i + 1}' for i in range(x_train.shape[-1])],\r\n",
                "                categorical_feature=[21],\r\n",
                "                evals_result=evals_result,\r\n",
                "                verbose_eval=10)"
            ],
            "outputs": [
                {
                    "output_type": "stream",
                    "name": "stdout",
                    "text": [
                        "[10]\ttraining's l1: 0.276046\ttraining's l2: 0.108767\tvalid_1's l1: 0.322674\tvalid_1's l2: 0.150545\n",
                        "[20]\ttraining's l1: 0.137632\ttraining's l2: 0.0346031\tvalid_1's l1: 0.164616\tvalid_1's l2: 0.0563025\n",
                        "[30]\ttraining's l1: 0.0851838\ttraining's l2: 0.0230692\tvalid_1's l1: 0.107419\tvalid_1's l2: 0.0422813\n",
                        "[40]\ttraining's l1: 0.0685608\ttraining's l2: 0.0207402\tvalid_1's l1: 0.0931802\tvalid_1's l2: 0.0393895\n",
                        "[50]\ttraining's l1: 0.0677401\ttraining's l2: 0.0196244\tvalid_1's l1: 0.0930377\tvalid_1's l2: 0.0387906\n",
                        "[60]\ttraining's l1: 0.0687042\ttraining's l2: 0.0185439\tvalid_1's l1: 0.0927123\tvalid_1's l2: 0.0376843\n",
                        "[70]\ttraining's l1: 0.0684068\ttraining's l2: 0.0178545\tvalid_1's l1: 0.0927701\tvalid_1's l2: 0.039019\n",
                        "[80]\ttraining's l1: 0.0684616\ttraining's l2: 0.0171469\tvalid_1's l1: 0.0919427\tvalid_1's l2: 0.0391645\n",
                        "[90]\ttraining's l1: 0.0679481\ttraining's l2: 0.0165015\tvalid_1's l1: 0.0927977\tvalid_1's l2: 0.039914\n",
                        "[100]\ttraining's l1: 0.0678893\ttraining's l2: 0.0160162\tvalid_1's l1: 0.093596\tvalid_1's l2: 0.0407443\n"
                    ]
                },
                {
                    "output_type": "stream",
                    "name": "stderr",
                    "text": [
                        "C:\\Users\\lucaschang\\Anaconda3\\lib\\site-packages\\lightgbm\\basic.py:1554: UserWarning: categorical_feature in Dataset is overridden.\n",
                        "New categorical_feature is [21]\n",
                        "  warnings.warn('categorical_feature in Dataset is overridden.\\n'\n",
                        "C:\\Users\\lucaschang\\Anaconda3\\lib\\site-packages\\lightgbm\\basic.py:1286: UserWarning: Overriding the parameters from Reference Dataset.\n",
                        "  warnings.warn('Overriding the parameters from Reference Dataset.')\n",
                        "C:\\Users\\lucaschang\\Anaconda3\\lib\\site-packages\\lightgbm\\basic.py:1098: UserWarning: categorical_column in param dict is overridden.\n",
                        "  warnings.warn('{} in param dict is overridden.'.format(cat_alias))\n"
                    ]
                }
            ],
            "metadata": {}
        },
        {
            "cell_type": "code",
            "execution_count": 37,
            "source": [
                "def render_metric(metric_name):\r\n",
                "    ax = lgb.plot_metric(evals_result, metric=metric_name, figsize=(10, 5))\r\n",
                "    plt.show()"
            ],
            "outputs": [],
            "metadata": {}
        },
        {
            "cell_type": "code",
            "execution_count": 41,
            "source": [
                "import matplotlib.pyplot as plt\r\n",
                "%matplotlib inline\r\n",
                "\r\n",
                "try:\r\n",
                "    # To enable interactive mode you should install ipywidgets\r\n",
                "    # https://github.com/jupyter-widgets/ipywidgets\r\n",
                "    from ipywidgets import interact, SelectMultiple\r\n",
                "    INTERACTIVE = True\r\n",
                "except ImportError:\r\n",
                "    INTERACTIVE = False"
            ],
            "outputs": [],
            "metadata": {}
        },
        {
            "cell_type": "code",
            "execution_count": 42,
            "source": [
                "if INTERACTIVE:\r\n",
                "    # create widget to switch between metrics\r\n",
                "    interact(render_metric, metric_name=params['metric'])\r\n",
                "else:\r\n",
                "    render_metric(params['metric'][0])"
            ],
            "outputs": [
                {
                    "output_type": "display_data",
                    "data": {
                        "text/plain": [
                            "interactive(children=(Dropdown(description='metric_name', options=('l1', 'l2'), value='l1'), Output()), _dom_c…"
                        ],
                        "application/vnd.jupyter.widget-view+json": {
                            "version_major": 2,
                            "version_minor": 0,
                            "model_id": "5533fc34a0cc4a528a466314b156c4e8"
                        }
                    },
                    "metadata": {}
                }
            ],
            "metadata": {}
        },
        {
            "cell_type": "code",
            "execution_count": 43,
            "source": [
                "def render_plot_importance(importance_type, max_features=10,\r\n",
                "                           ignore_zero=True, precision=3):\r\n",
                "    ax = lgb.plot_importance(gbm, importance_type=importance_type,\r\n",
                "                             max_num_features=max_features,\r\n",
                "                             ignore_zero=ignore_zero, figsize=(12, 8),\r\n",
                "                             precision=precision)\r\n",
                "    plt.show()"
            ],
            "outputs": [],
            "metadata": {}
        },
        {
            "cell_type": "code",
            "execution_count": 45,
            "source": [
                "if INTERACTIVE:\r\n",
                "    # create widget for interactive feature importance plot\r\n",
                "    interact(render_plot_importance,\r\n",
                "             importance_type=['split', 'gain'],\r\n",
                "             max_features=(1, x_train.shape[-1]),\r\n",
                "             precision=(0, 10))\r\n",
                "else:\r\n",
                "    render_plot_importance(importance_type='split')"
            ],
            "outputs": [
                {
                    "output_type": "display_data",
                    "data": {
                        "text/plain": [
                            "interactive(children=(Dropdown(description='importance_type', options=('split', 'gain'), value='split'), IntSl…"
                        ],
                        "application/vnd.jupyter.widget-view+json": {
                            "version_major": 2,
                            "version_minor": 0,
                            "model_id": "86f48b196e2f48f892bbca118cb47c36"
                        }
                    },
                    "metadata": {}
                }
            ],
            "metadata": {}
        },
        {
            "cell_type": "markdown",
            "source": [
                "##plot split value histogram"
            ],
            "metadata": {}
        },
        {
            "cell_type": "code",
            "execution_count": 46,
            "source": [
                "def render_histogram(feature):\r\n",
                "    ax = lgb.plot_split_value_histogram(gbm, feature=feature,\r\n",
                "                                        bins='auto', figsize=(10, 5))\r\n",
                "    plt.show()"
            ],
            "outputs": [],
            "metadata": {}
        },
        {
            "cell_type": "code",
            "execution_count": 47,
            "source": [
                "if INTERACTIVE:\r\n",
                "    # create widget for interactive split value histogram\r\n",
                "    interact(render_histogram,\r\n",
                "             feature=gbm.feature_name())\r\n",
                "else:\r\n",
                "    render_histogram(feature='f26')"
            ],
            "outputs": [
                {
                    "output_type": "display_data",
                    "data": {
                        "text/plain": [
                            "interactive(children=(Dropdown(description='feature', options=('f1', 'f2', 'f3', 'f4'), value='f1'), Output())…"
                        ],
                        "application/vnd.jupyter.widget-view+json": {
                            "version_major": 2,
                            "version_minor": 0,
                            "model_id": "4d20443fe4644d2582fbb647da6b3014"
                        }
                    },
                    "metadata": {}
                }
            ],
            "metadata": {}
        },
        {
            "cell_type": "markdown",
            "source": [
                "#plot trees"
            ],
            "metadata": {}
        },
        {
            "cell_type": "code",
            "execution_count": 56,
            "source": [
                "import graphviz\r\n",
                "def render_tree(tree_index, show_info, precision=3):\r\n",
                "    show_info = None if 'None' in show_info else show_info\r\n",
                "    return lgb.create_tree_digraph(gbm, tree_index=tree_index,\r\n",
                "                                   show_info=show_info, precision=precision)"
            ],
            "outputs": [],
            "metadata": {}
        },
        {
            "cell_type": "code",
            "execution_count": 57,
            "source": [
                "if INTERACTIVE:\r\n",
                "    # create widget to switch between trees and control info in nodes\r\n",
                "    interact(render_tree,\r\n",
                "             tree_index=(0, gbm.num_trees() - 1),\r\n",
                "             show_info=SelectMultiple(  # allow multiple values to be selected\r\n",
                "                 options=['None',\r\n",
                "                          'split_gain',\r\n",
                "                          'internal_value',\r\n",
                "                          'internal_count',\r\n",
                "                          'internal_weight',\r\n",
                "                          'leaf_count',\r\n",
                "                          'leaf_weight',\r\n",
                "                          'data_percentage'],\r\n",
                "                 value=['None']),\r\n",
                "             precision=(0, 10))\r\n",
                "    tree = None\r\n",
                "else:\r\n",
                "    tree = render_tree(53, ['None'])\r\n",
                "tree\r\n"
            ],
            "outputs": [
                {
                    "output_type": "display_data",
                    "data": {
                        "text/plain": [
                            "interactive(children=(IntSlider(value=49, description='tree_index', max=99), SelectMultiple(description='show_…"
                        ],
                        "application/vnd.jupyter.widget-view+json": {
                            "version_major": 2,
                            "version_minor": 0,
                            "model_id": "d6ff821fecd844369c04514575aa2e03"
                        }
                    },
                    "metadata": {}
                }
            ],
            "metadata": {}
        }
    ],
    "metadata": {
        "orig_nbformat": 4,
        "language_info": {
            "name": "python",
            "version": "3.8.5",
            "mimetype": "text/x-python",
            "codemirror_mode": {
                "name": "ipython",
                "version": 3
            },
            "pygments_lexer": "ipython3",
            "nbconvert_exporter": "python",
            "file_extension": ".py"
        },
        "kernelspec": {
            "name": "python3",
            "display_name": "Python 3.8.5 64-bit ('base': conda)"
        },
        "interpreter": {
            "hash": "ae1646a05f7b10b051d7e9065fb5fadb8c386804513460d6a8e5e82db325fc00"
        }
    },
    "nbformat": 4,
    "nbformat_minor": 2
}